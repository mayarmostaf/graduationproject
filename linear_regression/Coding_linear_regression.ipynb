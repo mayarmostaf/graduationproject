{
  "cells": [
    {
      "cell_type": "markdown",
      "metadata": {
        "id": "view-in-github",
        "colab_type": "text"
      },
      "source": [
        "<a href=\"https://colab.research.google.com/github/mayarmostaf/graduationproject/blob/main/linear_regression/Coding_linear_regression.ipynb\" target=\"_parent\"><img src=\"https://colab.research.google.com/assets/colab-badge.svg\" alt=\"Open In Colab\"/></a>"
      ]
    },
    {
      "cell_type": "markdown",
      "metadata": {
        "id": "DX4r4QJAjKBA"
      },
      "source": [
        "# Chapter 3: Linear Regression for a housing dataset\n",
        "\n",
        "### Importing the necessary packages"
      ]
    },
    {
      "cell_type": "code",
      "execution_count": 3,
      "metadata": {
        "id": "NdmKkdOIjMyP",
        "colab": {
          "base_uri": "https://localhost:8080/"
        },
        "outputId": "cf71cee7-2a31-4410-c68d-ba8330ceaa80"
      },
      "outputs": [
        {
          "output_type": "stream",
          "name": "stdout",
          "text": [
            "Cloning into 'machine_learning_1'...\n",
            "remote: Enumerating objects: 350, done.\u001b[K\n",
            "remote: Counting objects: 100% (98/98), done.\u001b[K\n",
            "remote: Compressing objects: 100% (97/97), done.\u001b[K\n",
            "remote: Total 350 (delta 54), reused 3 (delta 1), pack-reused 252 (from 1)\u001b[K\n",
            "Receiving objects: 100% (350/350), 42.64 MiB | 8.96 MiB/s, done.\n",
            "Resolving deltas: 100% (177/177), done.\n",
            "/content/machine_learning_1/linear_regression\n"
          ]
        }
      ],
      "source": [
        "!git clone https://github.com/s7s/machine_learning_1\n",
        "%cd  machine_learning_1/linear_regression\n",
        "# https://docs.google.com/presentation/d/1NfC05Wi6sAkbS9U4X6RW9jyW5auU901wPTRAtopw9qA/edit?usp=drive_link"
      ]
    },
    {
      "cell_type": "code",
      "execution_count": 4,
      "metadata": {
        "id": "2Lp-pE1xjKBG"
      },
      "outputs": [],
      "source": [
        "from matplotlib import pyplot as plt\n",
        "import numpy as np\n",
        "import random\n",
        "import utils"
      ]
    },
    {
      "cell_type": "markdown",
      "metadata": {
        "id": "VzQuZ_CyjKBH"
      },
      "source": [
        "### Defining and plotting our dataset"
      ]
    },
    {
      "cell_type": "code",
      "execution_count": 5,
      "metadata": {
        "id": "TW-HBsNzjKBH",
        "colab": {
          "base_uri": "https://localhost:8080/"
        },
        "outputId": "2ec361bb-c6d2-4edc-a3dd-db338c0aa2b2"
      },
      "outputs": [
        {
          "output_type": "stream",
          "name": "stdout",
          "text": [
            "[1 2 3 5 6 7]\n",
            "[155 197 244 356 407 448]\n"
          ]
        }
      ],
      "source": [
        "features = np.array([1,2,3,5,6,7])\n",
        "labels = np.array([155, 197, 244, 356,407,448])\n",
        "\n",
        "print(features)\n",
        "print(labels)"
      ]
    },
    {
      "cell_type": "code",
      "execution_count": 6,
      "metadata": {
        "id": "pkC2jEKcjKBI",
        "colab": {
          "base_uri": "https://localhost:8080/",
          "height": 449
        },
        "outputId": "edeb441c-9036-42cf-d015-cc7b3db15e8f"
      },
      "outputs": [
        {
          "output_type": "display_data",
          "data": {
            "text/plain": [
              "<Figure size 640x480 with 1 Axes>"
            ],
            "image/png": "[encoded data removed]"
          },
          "metadata": {}
        }
      ],
      "source": [
        "utils.plot_points(features, labels)"
      ]
    },
    {
      "cell_type": "markdown",
      "metadata": {
        "id": "50-WodUTjKBJ"
      },
      "source": [
        "### Coding the tricks\n",
        "\n",
        "- Simple trick\n",
        "- Absolute trick\n",
        "- Square trick"
      ]
    },
    {
      "cell_type": "code",
      "execution_count": 7,
      "metadata": {
        "id": "XgeArBsYjKBJ"
      },
      "outputs": [],
      "source": [
        "def simple_trick(base_price, price_per_room, num_rooms, price):\n",
        "    small_random_1 = random.random()*0.1\n",
        "    small_random_2 = random.random()*0.1\n",
        "    predicted_price = base_price + price_per_room*num_rooms\n",
        "    if price > predicted_price and num_rooms > 0:\n",
        "        price_per_room += small_random_1\n",
        "        base_price += small_random_2\n",
        "    if price > predicted_price and num_rooms < 0:\n",
        "        price_per_room -= small_random_1\n",
        "        base_price += small_random_2\n",
        "    if price < predicted_price and num_rooms > 0:\n",
        "        price_per_room -= small_random_1\n",
        "        base_price -= small_random_2\n",
        "    if price < predicted_price and num_rooms < 0:\n",
        "        price_per_room -= small_random_1\n",
        "        base_price += small_random_2\n",
        "    return price_per_room, base_price\n",
        "    #????????"
      ]
    },
    {
      "cell_type": "code",
      "execution_count": 10,
      "metadata": {
        "id": "sKFJi0SDjKBK"
      },
      "outputs": [],
      "source": [
        "def square_trick(base_price, price_per_room, num_rooms, price, learning_rate):\n",
        "    ## TODO ##\n",
        "    #implement square_trick and return the new price_per_room and base_price\n",
        "    # calculate the predicted price then calculate the new price_per_room and base_price\n",
        "    predicted_price=price_per_room*num_rooms+base_price\n",
        "    price_per_room=price_per_room+learning_rate*(price-predicted_price)*num_rooms\n",
        "    base_price=base_price+learning_rate*(price-predicted_price)\n",
        "    return price_per_room, base_price"
      ]
    },
    {
      "cell_type": "code",
      "execution_count": 11,
      "metadata": {
        "id": "KDpRByp4jKBK"
      },
      "outputs": [],
      "source": [
        "def absolute_trick(base_price, price_per_room, num_rooms, price, learning_rate):\n",
        "    ## TODO ##\n",
        "    #implement absolute_trick and return the new price_per_room and base_price\n",
        "    # calculate the predicted price then calculate the new price_per_room and base_price\n",
        "    predicted_price=price_per_room*num_rooms+base_price\n",
        "    if price-predicted_price >0:\n",
        "      price_per_room=price_per_room+learning_rate*num_rooms\n",
        "      base_price=base_price+learning_rate\n",
        "    else:\n",
        "      price_per_room=price_per_room-learning_rate*num_rooms\n",
        "      base_price=base_price-learning_rate\n",
        "    return price_per_room, base_price"
      ]
    },
    {
      "cell_type": "markdown",
      "metadata": {
        "id": "Uak0SEZbjKBL"
      },
      "source": [
        "### Running the linear regression algorithm\n",
        "\n",
        "The linear regression algorithm consists of:\n",
        "- Starting with random weights\n",
        "- Iterating the square (or simple, or absolute) trick many times."
      ]
    },
    {
      "cell_type": "code",
      "source": [
        "import random as rd\n",
        "\n",
        "# We set the random seed in order to always get the same results.\n",
        "random.seed(0)\n",
        "\n",
        "def linear_regression(features, labels, learning_rate=0.01, epochs = 1000):\n",
        "    price_per_room =  random.random() # start with random weight\n",
        "    base_price =  random.random() # start with random bias\n",
        "    ## TODO ##\n",
        "    # for this number of epochs\n",
        "    # get a random datasample of our dataset(x,y)\n",
        "    # using the selected datasample use square_trick fn or absolute_trick fn to update price_per_room and base_price\n",
        "    for i in range(epochs):\n",
        "      id=random.randint(0,5)\n",
        "      num_rooms=features[id]\n",
        "      price=labels[id]\n",
        "      price_per_room, base_price=square_trick(base_price, price_per_room, num_rooms, price, learning_rate)\n",
        "    utils.draw_line(price_per_room, base_price, 'black', starting=0, ending=8)\n",
        "    utils.plot_points(features, labels)\n",
        "    print('Price per room:', price_per_room)\n",
        "    print('Base price:', base_price)\n",
        "    return price_per_room, base_price\n",
        "\n",
        "# This line is for the x-axis to appear in the figure\n",
        "plt.ylim(0,500)\n",
        "\n",
        "linear_regression(features, labels, learning_rate = 0.02, epochs = 1000)"
      ],
      "metadata": {
        "colab": {
          "base_uri": "https://localhost:8080/",
          "height": 507
        },
        "id": "uG4aonrahb-y",
        "outputId": "adc1c6d4-fb69-4964-da8e-a8f1ebf248a5"
      },
      "execution_count": 18,
      "outputs": [
        {
          "output_type": "stream",
          "name": "stdout",
          "text": [
            "Price per room: 49.79143221118902\n",
            "Base price: 99.45997452167688\n"
          ]
        },
        {
          "output_type": "execute_result",
          "data": {
            "text/plain": [
              "(49.79143221118902, 99.45997452167688)"
            ]
          },
          "metadata": {},
          "execution_count": 18
        },
        {
          "output_type": "display_data",
          "data": {
            "text/plain": [
              "<Figure size 640x480 with 1 Axes>"
            ],
            "image/png": "[encoded data removed]"
          },
          "metadata": {}
        }
      ]
    },
    {
      "cell_type": "code",
      "execution_count": 17,
      "metadata": {
        "id": "j73km5P1jKBL",
        "colab": {
          "base_uri": "https://localhost:8080/",
          "height": 507
        },
        "outputId": "35825404-45f2-48bf-b985-bc089cf18eae"
      },
      "outputs": [
        {
          "output_type": "stream",
          "name": "stdout",
          "text": [
            "Price per room: 49.844421851525055\n",
            "Base price: 102.7579544029403\n"
          ]
        },
        {
          "output_type": "execute_result",
          "data": {
            "text/plain": [
              "(49.844421851525055, 102.7579544029403)"
            ]
          },
          "metadata": {},
          "execution_count": 17
        },
        {
          "output_type": "display_data",
          "data": {
            "text/plain": [
              "<Figure size 640x480 with 1 Axes>"
            ],
            "image/png": "[encoded data removed]"
          },
          "metadata": {}
        }
      ],
      "source": [
        "import random as rd\n",
        "\n",
        "# We set the random seed in order to always get the same results.\n",
        "random.seed(0)\n",
        "\n",
        "def linear_regression(features, labels, learning_rate=0.01, epochs = 1000):\n",
        "    price_per_room =  random.random() # start with random weight\n",
        "    base_price =  random.random() # start with random bias\n",
        "    ## TODO ##\n",
        "    # for this number of epochs\n",
        "    # get a random datasample of our dataset(x,y)\n",
        "    # using the selected datasample use square_trick fn or absolute_trick fn to update price_per_room and base_price\n",
        "    for i in range(epochs):\n",
        "      id=random.randint(0,5)\n",
        "      num_rooms=features[id]\n",
        "      price=labels[id]\n",
        "      price_per_room, base_price=absolute_trick(base_price, price_per_room, num_rooms, price, learning_rate)\n",
        "    utils.draw_line(price_per_room, base_price, 'black', starting=0, ending=8)\n",
        "    utils.plot_points(features, labels)\n",
        "    print('Price per room:', price_per_room)\n",
        "    print('Base price:', base_price)\n",
        "    return price_per_room, base_price\n",
        "\n",
        "# This line is for the x-axis to appear in the figure\n",
        "plt.ylim(0,500)\n",
        "\n",
        "linear_regression(features, labels, learning_rate = 0.5, epochs = 1000)"
      ]
    },
    {
      "cell_type": "markdown",
      "metadata": {
        "id": "IEZJnQv_jKBM"
      },
      "source": [
        "### Root mean squared error function"
      ]
    },
    {
      "cell_type": "code",
      "execution_count": 8,
      "metadata": {
        "id": "8yIxnLbFjKBM"
      },
      "outputs": [],
      "source": [
        "# The root mean square error function\n",
        "def rmse(labels, predictions):\n",
        "    ## TODO ##\n",
        "    # calculate the root meen square error between the labels and predictions\n",
        "    m=len(labels)\n",
        "    e=labels-predictions\n",
        "    mse=1/m*np.linalg.norm(e)\n",
        "    error=np.sqrt(mse)\n",
        "    return error"
      ]
    },
    {
      "cell_type": "markdown",
      "metadata": {
        "id": "nh29EinojKBM"
      },
      "source": [
        "### Plotting the error function"
      ]
    },
    {
      "cell_type": "code",
      "execution_count": 12,
      "metadata": {
        "id": "O3u1TVZLjKBN",
        "colab": {
          "base_uri": "https://localhost:8080/",
          "height": 914
        },
        "outputId": "976c13fd-2d25-4104-8ce5-3834377747b4"
      },
      "outputs": [
        {
          "output_type": "stream",
          "name": "stdout",
          "text": [
            "Price per room: 50.31227653908527\n",
            "Base price: 99.10171517371377\n"
          ]
        },
        {
          "output_type": "display_data",
          "data": {
            "text/plain": [
              "<Figure size 640x480 with 1 Axes>"
            ],
            "image/png": "[encoded data removed]"
          },
          "metadata": {}
        },
        {
          "output_type": "display_data",
          "data": {
            "text/plain": [
              "<Figure size 640x480 with 1 Axes>"
            ],
            "image/png": "[encoded data removed]"
          },
          "metadata": {}
        },
        {
          "output_type": "execute_result",
          "data": {
            "text/plain": [
              "(50.31227653908527, 99.10171517371377)"
            ]
          },
          "metadata": {},
          "execution_count": 12
        }
      ],
      "source": [
        "def linear_regression(features, labels, learning_rate=0.01, epochs = 1000):\n",
        "    price_per_room = random.random()\n",
        "    base_price = random.random()\n",
        "    errors = []\n",
        "    for i in range(epochs):\n",
        "        predictions = features*price_per_room+base_price\n",
        "        errors.append(rmse(labels, predictions))\n",
        "        i = random.randint(0, len(features)-1)\n",
        "        num_rooms = features[i]\n",
        "        price = labels[i]\n",
        "        # Uncomment one of the following 3 lines to use the simple, the absolute, or the square trick\n",
        "        #price_per_room, base_price = simple_trick(base_price,\n",
        "        #price_per_room, base_price = absolute_trick(base_price,\n",
        "        price_per_room, base_price = square_trick(base_price,\n",
        "                                                  price_per_room,\n",
        "                                                  num_rooms,\n",
        "                                                  price,\n",
        "                                                  learning_rate=learning_rate)\n",
        "    utils.draw_line(price_per_room, base_price, 'black', starting=0, ending=9)\n",
        "    utils.plot_points(features, labels)\n",
        "    print('Price per room:', price_per_room)\n",
        "    print('Base price:', base_price)\n",
        "    plt.show()\n",
        "    plt.scatter(range(len(errors)), errors)\n",
        "    plt.show()\n",
        "    return price_per_room, base_price\n",
        "\n",
        "linear_regression(features, labels, learning_rate = 0.01, epochs = 10000)"
      ]
    },
    {
      "cell_type": "markdown",
      "metadata": {
        "id": "IFVTjCLMjKBN"
      },
      "source": [
        "### Linear regression using sklearn\n",
        "\n"
      ]
    },
    {
      "cell_type": "code",
      "source": [
        "reg = SGDRegressor(max_iter=100,learning_rate='constant',eta0=0.01)\n",
        "reg.fit(X_train,y_train)\n",
        "\n",
        "SGDRegressor(learning_rate='constant', max_iter=100)\n",
        "y_pred = reg.predict(X_test)\n",
        "r2_score(y_test,y_pred)"
      ],
      "metadata": {
        "id": "MFFBQ-pKE-W-"
      },
      "execution_count": null,
      "outputs": []
    },
    {
      "cell_type": "code",
      "execution_count": null,
      "metadata": {
        "id": "pRjXCzgqzXKO"
      },
      "outputs": [],
      "source": [
        "from sklearn.linear_model import SGDRegressor\n",
        "## TODO ##\n",
        "# Use sklearn to implement linear regression (SGDRegressor) that fit our data (features, labels)\n",
        "# set tol = None\n",
        "# Tune alpha and max_iter\n",
        "reg=SGDRegressor(max_iter=100,learning_rate='constant',eta0=0.01)\n",
        "reg.fit(features, labels)\n"
      ]
    },
    {
      "cell_type": "code",
      "execution_count": null,
      "metadata": {
        "id": "q3nEUOfu0OF0"
      },
      "outputs": [],
      "source": [
        "## TODO ##\n",
        "# print the coefficients and bias of this model\n"
      ]
    },
    {
      "cell_type": "code",
      "execution_count": null,
      "metadata": {
        "id": "gIULdfcT4ZEi"
      },
      "outputs": [],
      "source": [
        "## TODO ##\n",
        "# use this model to predict the price of house that contains 4 rooms\n"
      ]
    },
    {
      "cell_type": "markdown",
      "metadata": {
        "id": "4vXa1CM7CDL3"
      },
      "source": [
        "### Normal Equation\n",
        "\n"
      ]
    },
    {
      "cell_type": "code",
      "execution_count": null,
      "metadata": {
        "id": "ar4JBp-cB4cH"
      },
      "outputs": [],
      "source": [
        "def Normal_Equation(features,labels):\n",
        "    ## TODO ##\n",
        "    # Use normal equation to get the weights\n",
        "    # don't forget to concatenate ones to the features\n",
        "\n",
        "    return W\n",
        "\n",
        "W = Normal_Equation(features,labels)\n",
        "print(W)"
      ]
    },
    {
      "cell_type": "markdown",
      "metadata": {
        "id": "gWcktyyaQz6W"
      },
      "source": [
        "### Real Example (Predict fuel efficiency)"
      ]
    },
    {
      "cell_type": "code",
      "execution_count": null,
      "metadata": {
        "id": "Tf5DbhdyVzNO"
      },
      "outputs": [],
      "source": [
        "# Use seaborn for pairplot.\n",
        "!pip install -q seaborn"
      ]
    },
    {
      "cell_type": "code",
      "execution_count": null,
      "metadata": {
        "id": "K1ClyRjpVzNO"
      },
      "outputs": [],
      "source": [
        "import matplotlib.pyplot as plt\n",
        "import numpy as np\n",
        "import pandas as pd\n",
        "import seaborn as sns\n",
        "\n",
        "# Make NumPy printouts easier to read.\n",
        "np.set_printoptions(precision=3, suppress=True)"
      ]
    },
    {
      "cell_type": "markdown",
      "metadata": {
        "id": "hw_xjuAUVzNO"
      },
      "source": [
        "#### Get data"
      ]
    },
    {
      "cell_type": "code",
      "execution_count": null,
      "metadata": {
        "id": "UsRbH0oRVzNO"
      },
      "outputs": [],
      "source": [
        "url = 'http://archive.ics.uci.edu/ml/machine-learning-databases/auto-mpg/auto-mpg.data'\n",
        "column_names = ['MPG', 'Cylinders', 'Displacement', 'Horsepower', 'Weight',\n",
        "                'Acceleration', 'Model Year', 'Origin']\n",
        "\n",
        "raw_dataset = pd.read_csv(url, names=column_names,\n",
        "                          na_values='?', comment='\\t',\n",
        "                          sep=' ', skipinitialspace=True)"
      ]
    },
    {
      "cell_type": "code",
      "execution_count": null,
      "metadata": {
        "id": "6nInMoMiVzNP"
      },
      "outputs": [],
      "source": [
        "dataset = raw_dataset.copy()\n",
        "dataset.head()"
      ]
    },
    {
      "cell_type": "markdown",
      "metadata": {
        "id": "XNAu1SKVVzNP"
      },
      "source": [
        "#### Clean data"
      ]
    },
    {
      "cell_type": "code",
      "execution_count": null,
      "metadata": {
        "id": "vnxJ9cuqVzNP"
      },
      "outputs": [],
      "source": [
        "dataset.isna().sum()"
      ]
    },
    {
      "cell_type": "code",
      "execution_count": null,
      "metadata": {
        "id": "SnRxUXF3VzNP"
      },
      "outputs": [],
      "source": [
        "dataset = dataset.dropna()"
      ]
    },
    {
      "cell_type": "code",
      "execution_count": null,
      "metadata": {
        "id": "-gaXi7HKVzNP"
      },
      "outputs": [],
      "source": [
        "dataset.isna().sum()"
      ]
    },
    {
      "cell_type": "code",
      "execution_count": null,
      "metadata": {
        "id": "n3tocrIQVzNP"
      },
      "outputs": [],
      "source": [
        "dataset.head()"
      ]
    },
    {
      "cell_type": "code",
      "execution_count": null,
      "metadata": {
        "id": "7FCbPLV5VzNP"
      },
      "outputs": [],
      "source": [
        "dataset['Origin'] = dataset['Origin'].map({1: 'USA', 2: 'Europe', 3: 'Japan'})"
      ]
    },
    {
      "cell_type": "code",
      "execution_count": null,
      "metadata": {
        "id": "-UPQgXBbVzNP"
      },
      "outputs": [],
      "source": [
        "dataset = pd.get_dummies(dataset, columns=['Origin'], prefix='', prefix_sep='')"
      ]
    },
    {
      "cell_type": "code",
      "execution_count": null,
      "metadata": {
        "id": "nPEoDgEPVzNP"
      },
      "outputs": [],
      "source": [
        "dataset.head()"
      ]
    },
    {
      "cell_type": "code",
      "execution_count": null,
      "metadata": {
        "id": "JC5U6xl0VzNP"
      },
      "outputs": [],
      "source": [
        "sns.pairplot(dataset[['MPG','Displacement', 'Horsepower', 'Weight','Acceleration']])"
      ]
    },
    {
      "cell_type": "code",
      "execution_count": null,
      "metadata": {
        "id": "JHyQrm3oVzNP"
      },
      "outputs": [],
      "source": [
        "datasetXsingle=dataset[['Horsepower']]\n",
        "datasetXMulti=dataset[['Cylinders', 'Displacement', 'Horsepower', 'Weight',\n",
        "                'Acceleration', 'Model Year', 'Europe','Japan','USA']]\n",
        "datasetY=dataset[['MPG']]"
      ]
    },
    {
      "cell_type": "code",
      "execution_count": null,
      "metadata": {
        "id": "5ewLKagyVzNP"
      },
      "outputs": [],
      "source": [
        "from sklearn.linear_model import SGDRegressor\n",
        "\n",
        "# use single-variable input to fit linear regression model\n",
        "# set tol = None\n",
        "# Tune alpha and max_iter\n",
        "# print the score and the mse error"
      ]
    },
    {
      "cell_type": "code",
      "execution_count": null,
      "metadata": {
        "id": "_dwixSKCVzNV"
      },
      "outputs": [],
      "source": [
        "from sklearn.linear_model import SGDRegressor\n",
        "\n",
        "# use multi-variable input to fit linear regression model\n",
        "# set tol = None\n",
        "# Tune alpha and max_iter\n",
        "# print the score and the mse error"
      ]
    },
    {
      "cell_type": "code",
      "execution_count": null,
      "metadata": {
        "id": "vHd3ga6dVzNV"
      },
      "outputs": [],
      "source": [
        "from sklearn.linear_model import SGDRegressor\n",
        "\n",
        "# use Normalized mlti-variable input to fit linear regression model\n",
        "# set tol = None\n",
        "# Tune alpha and max_iter\n",
        "# use sklearn.preprocessing.StandardScaler for normalization\n",
        "# print the score and the mse error"
      ]
    },
    {
      "cell_type": "code",
      "execution_count": null,
      "metadata": {
        "id": "OIzpnR1ZVzNV"
      },
      "outputs": [],
      "source": []
    }
  ],
  "metadata": {
    "colab": {
      "name": "Copy of Coding_linear_regression.ipynb",
      "provenance": [],
      "include_colab_link": true
    },
    "kernelspec": {
      "display_name": "Python 3 (ipykernel)",
      "language": "python",
      "name": "python3"
    },
    "language_info": {
      "codemirror_mode": {
        "name": "ipython",
        "version": 3
      },
      "file_extension": ".py",
      "mimetype": "text/x-python",
      "name": "python",
      "nbconvert_exporter": "python",
      "pygments_lexer": "ipython3",
      "version": "3.9.12"
    }
  },
  "nbformat": 4,
  "nbformat_minor": 0
}